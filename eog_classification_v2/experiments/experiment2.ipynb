{
 "cells": [
  {
   "cell_type": "markdown",
   "metadata": {},
   "source": [
    "## Experiment 2\n",
    "<br>\n",
    "-- ViT Base model hyperparameters explore\n"
   ]
  },
  {
   "cell_type": "code",
   "execution_count": null,
   "metadata": {},
   "outputs": [],
   "source": [
    "import json\n",
    "import re\n",
    "import random\n",
    "import os\n",
    "from collections import defaultdict\n",
    "from itertools import product\n",
    "\n",
    "import tensorflow as tf\n",
    "import pandas as pd\n",
    "import numpy as np\n",
    "\n",
    "import utils"
   ]
  },
  {
   "cell_type": "code",
   "execution_count": null,
   "metadata": {},
   "outputs": [],
   "source": [
    "def seed_everything(seed: int = 42):\n",
    "    random.seed(seed)\n",
    "    np.random.seed(seed)\n",
    "    os.environ[\"PYTHONHASHSEED\"] = str(seed)\n",
    "    tf.random.set_seed(seed)\n",
    "\n",
    "seed_everything()"
   ]
  },
  {
   "cell_type": "markdown",
   "metadata": {},
   "source": [
    "### Data Load"
   ]
  },
  {
   "cell_type": "code",
   "execution_count": null,
   "metadata": {},
   "outputs": [],
   "source": [
    "data_path = '/home/donghyun/eye_writing_classification/v2_dataset/200_points_dataset/'\n",
    "\n",
    "with open(data_path + 'eog_raw_numbers_200.json') as f:\n",
    "  eog_raw_numbers = json.load(f)\n",
    "\n",
    "with open(data_path + 'reference_data_200.json') as f:\n",
    "  reference_data = json.load(f)"
   ]
  },
  {
   "cell_type": "markdown",
   "metadata": {},
   "source": [
    "### Experiment"
   ]
  },
  {
   "cell_type": "code",
   "execution_count": null,
   "metadata": {},
   "outputs": [],
   "source": [
    "# hyperparameters\n",
    "\n",
    "vit_hidden_size = [128,256,512]\n",
    "vit_patch_size = [5,10]\n",
    "vit_heads = [4,8]\n",
    "vit_n_layers = [8,12]\n",
    "vit_mlp_units = [[128,64],\n",
    "                 [64,32]]\n",
    "vit_dropout = [0]\n",
    "vit_mlp_dropout = [0]"
   ]
  },
  {
   "cell_type": "code",
   "execution_count": null,
   "metadata": {},
   "outputs": [],
   "source": [
    "# Config class\n",
    "\n",
    "class Config:\n",
    "    split_ratio = 0.3\n",
    "    ref_key = 'numbers'\n",
    "    batch_size = 10            # fix : must be equaled with number of test pairs\n",
    "    n_batch = 180\n",
    "    lr = 0.0005\n",
    "    model_type = 'ViTBaseModel'\n",
    "    ViT_params = {}\n",
    "    epochs = 100"
   ]
  },
  {
   "cell_type": "code",
   "execution_count": null,
   "metadata": {},
   "outputs": [],
   "source": [
    "# grid search for hyperparameters\n",
    "\n",
    "cols = ['hidden_size', 'batch_size', 'patch_size', 'heads', 'n_layers', 'mlp_units', 'dropout', 'mlp_dropout', 'score']\n",
    "best_perform_df = pd.DataFrame(columns=cols)\n",
    "\n",
    "raw_numbers_dict = defaultdict(list)\n",
    "\n",
    "i = 0\n",
    "for hs, ps, heads, n_layers, mlp_units, dropout, mlp_dropout in product(vit_hidden_size,\n",
    "                                                                            vit_patch_size,\n",
    "                                                                            vit_heads,\n",
    "                                                                            vit_n_layers,\n",
    "                                                                            vit_mlp_units,\n",
    "                                                                            vit_dropout,\n",
    "                                                                            vit_mlp_dropout\n",
    "                                                                            ):\n",
    "    i+=1\n",
    "    print('index : ', i)\n",
    "\n",
    "    cfg = Config\n",
    "    cfg.ViT_params['hidden_size'] = hs\n",
    "    cfg.ViT_params['batch_size'] = cfg.batch_size\n",
    "    cfg.ViT_params['patch_size'] = ps\n",
    "    cfg.ViT_params['heads'] = heads\n",
    "    cfg.ViT_params['n_layers'] = n_layers\n",
    "    cfg.ViT_params['mlp_units'] = mlp_units\n",
    "    cfg.ViT_params['dropout'] = dropout\n",
    "    cfg.ViT_params['mlp_dropout'] = mlp_dropout\n",
    "\n",
    "    _, _, _, test_acc_list = utils.experiment(cfg, eog_raw_numbers, reference_data)\n",
    "    score = np.mean(test_acc_list[-3:])\n",
    "\n",
    "    best_perform_df.loc[i] = [hs, cfg.batch_size, ps, heads, n_layers, str(mlp_units), dropout, mlp_dropout, score]\n",
    "\n",
    "best_perform_df = best_perform_df.sort_values(by='score',ascending=False)"
   ]
  },
  {
   "cell_type": "code",
   "execution_count": null,
   "metadata": {},
   "outputs": [],
   "source": [
    "# hyperparameters save\n",
    "\n",
    "save_path = '/home/donghyun/eye_writing_classification/experiments/save/'\n",
    "best_perform_df.to_csv(save_path+'experiment2_vit_hyperparams.csv', index=True)"
   ]
  },
  {
   "cell_type": "code",
   "execution_count": null,
   "metadata": {},
   "outputs": [],
   "source": [
    "# load the hyperparameters\n",
    "\n",
    "save_path = '/home/donghyun/eye_writing_classification/experiments/save/'\n",
    "best_perform_df = pd.read_csv(save_path+'experiment2_vit_hyperparams.csv')\n",
    "\n",
    "best_perform_df.head(10)"
   ]
  },
  {
   "cell_type": "code",
   "execution_count": null,
   "metadata": {},
   "outputs": [],
   "source": [
    "class Config:\n",
    "    split_ratio = 0.3\n",
    "    ref_key = 'numbers'\n",
    "    batch_size = 10            # fix : Not must be equaled with number of test pairs \n",
    "    n_batch = 180\n",
    "    lr = 0.0005\n",
    "    model_type = 'ViTBaseModel'\n",
    "    ViT_params = {}\n",
    "    epochs = 100\n",
    "\n",
    "best_params = best_perform_df.iloc[0].to_dict()\n",
    "best_params['mlp_units'] = re.sub('[\\[\\]]','',best_params['mlp_units'])\n",
    "best_params['mlp_units'] = list(map(int,best_params['mlp_units'].split(',')))       # str to list\n",
    "\n",
    "cfg = Config\n",
    "cfg.ViT_params = best_params\n",
    "\n",
    "times = 10\n",
    "raw_numbers_dict = defaultdict(list)\n",
    "for t in range(times):\n",
    "    _, raw_train_acc, raw_train_loss, raw_test_acc = utils.experiment(cfg, eog_raw_numbers, reference_data)\n",
    "    raw_numbers_dict[t] = [raw_train_acc, raw_train_loss, raw_test_acc]\n"
   ]
  },
  {
   "cell_type": "markdown",
   "metadata": {},
   "source": [
    "### Save"
   ]
  },
  {
   "cell_type": "code",
   "execution_count": null,
   "metadata": {},
   "outputs": [],
   "source": [
    "save_path = '/home/donghyun/eye_writing_classification/experiments/save/'\n",
    "\n",
    "with open(save_path + 'experiment2_raw_numbers_results.json', 'w') as f:\n",
    "    json.dump(dict(raw_numbers_dict),f)"
   ]
  },
  {
   "cell_type": "markdown",
   "metadata": {},
   "source": [
    "### Visualization"
   ]
  },
  {
   "cell_type": "code",
   "execution_count": null,
   "metadata": {},
   "outputs": [],
   "source": [
    "save_path = '/home/donghyun/eye_writing_classification/experiments/save/'\n",
    "\n",
    "with open(save_path+'experiment1_raw_numbers_results.json') as f:\n",
    "    hybrid_raw_numbers_results = json.load(f)\n",
    "\n",
    "with open(save_path+'experiment2_raw_numbers_results.json') as f:\n",
    "    vit_raw_numbers_results = json.load(f)"
   ]
  },
  {
   "cell_type": "code",
   "execution_count": null,
   "metadata": {},
   "outputs": [],
   "source": [
    "hybrid_test_acc = []\n",
    "vit_test_acc = []\n",
    "for t in range(10):\n",
    "    key = str(t)\n",
    "    hybrid_test_acc.append(hybrid_raw_numbers_results[key][2])\n",
    "    vit_test_acc.append(vit_raw_numbers_results[key][2])\n",
    "\n",
    "hybrid_avg_results = np.array(hybrid_test_acc).mean(axis=0)\n",
    "vit_avg_results  =np.array(vit_test_acc).mean(axis=0)"
   ]
  },
  {
   "cell_type": "code",
   "execution_count": null,
   "metadata": {},
   "outputs": [],
   "source": [
    "def analysis(data_list):\n",
    "    return np.mean(data_list), max(data_list), min(data_list), np.std(data_list)\n",
    "\n",
    "hybrid_numbers_test_performance = [t[-1] for t in hybrid_test_acc]\n",
    "vit_numbers_test_performance = [t[-1] for t in vit_test_acc]\n",
    "\n",
    "print('Accuracy base on raw numbers with 10 repetitions')\n",
    "print(' '*29 +'1,     2,    3,      4,      5,      6,     7,     8,     9,     10,       Avg.   Best.   Worst.  Std.')\n",
    "print('hybrid model performance : {}, {}'.format(hybrid_numbers_test_performance, analysis(hybrid_numbers_test_performance)))\n",
    "print('ViT model performance    : {}, {}'.format(vit_numbers_test_performance, analysis(vit_numbers_test_performance)))"
   ]
  },
  {
   "cell_type": "code",
   "execution_count": null,
   "metadata": {},
   "outputs": [],
   "source": [
    "import matplotlib.pyplot as plt\n",
    "\n",
    "fig, axes = plt.subplots(1,2, figsize = (20,8))\n",
    "\n",
    "# test accuracy\n",
    "axes[0].plot(hybrid_avg_results, c = 'b', linestyle = 'solid', linewidth = 3)\n",
    "axes[0].plot(vit_avg_results, c = 'r', linestyle = 'solid', linewidth = 3)\n",
    "\n",
    "axes[0].set_ylim(20,100)\n",
    "\n",
    "axes[0].set_title(\"Evaluation\", fontsize=20)\n",
    "axes[0].set_xlabel('Epoch', fontsize = 20)\n",
    "axes[0].set_ylabel('Accuracy', fontsize = 20)\n",
    "\n",
    "axes[0].legend(['Hybrid base model', 'ViT base model'], fontsize = 15)\n",
    "\n",
    "# plot\n",
    "plt.show()"
   ]
  },
  {
   "cell_type": "code",
   "execution_count": null,
   "metadata": {},
   "outputs": [],
   "source": []
  }
 ],
 "metadata": {
  "kernelspec": {
   "display_name": "Python 3.10.0 ('eog')",
   "language": "python",
   "name": "python3"
  },
  "language_info": {
   "codemirror_mode": {
    "name": "ipython",
    "version": 3
   },
   "file_extension": ".py",
   "mimetype": "text/x-python",
   "name": "python",
   "nbconvert_exporter": "python",
   "pygments_lexer": "ipython3",
   "version": "3.10.0"
  },
  "orig_nbformat": 4,
  "vscode": {
   "interpreter": {
    "hash": "db961e0436efeabab578e79efd22f04ed4082e196e7e1c09c24525d7c028a5aa"
   }
  }
 },
 "nbformat": 4,
 "nbformat_minor": 2
}
