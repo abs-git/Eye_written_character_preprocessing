{
 "cells": [
  {
   "cell_type": "code",
   "execution_count": null,
   "metadata": {},
   "outputs": [],
   "source": [
    "import json\n",
    "import re\n",
    "\n",
    "import utils\n",
    "import data_handler as dh\n",
    "\n",
    "from collections import defaultdict\n",
    "from itertools import product\n",
    "\n",
    "import tensorflow as tf\n",
    "import pandas as pd\n",
    "import numpy as np"
   ]
  },
  {
   "cell_type": "markdown",
   "metadata": {},
   "source": [
    "### Data settting"
   ]
  },
  {
   "cell_type": "code",
   "execution_count": null,
   "metadata": {},
   "outputs": [],
   "source": [
    "data_path = '/home/donghyun/eye_writing_classification/v2_dataset/200_points_dataset/'\n",
    "\n",
    "with open(data_path + 'eog_raw_numbers_200.json') as f:\n",
    "  eog_raw_numbers = json.load(f)\n",
    "\n",
    "with open(data_path + 'eog_katakana_200.json') as f:\n",
    "  eog_katakana = json.load(f)\n",
    "\n",
    "with open(data_path + 'reference_data_200.json') as f:\n",
    "  reference_data = json.load(f)"
   ]
  },
  {
   "cell_type": "code",
   "execution_count": null,
   "metadata": {},
   "outputs": [],
   "source": [
    "katakana_le = {'1':'10', '2':'11', '3':'12', '4':'13', '5':'14',\n",
    "               '6':'15', '7':'16', '8':'17', '9':'18', '10':'19',\n",
    "               '11':'20', '12':'21'}\n",
    "\n",
    "all_data = eog_raw_numbers.copy()\n",
    "for k in eog_katakana.keys():\n",
    "    cnvt_key = katakana_le[k]\n",
    "    all_data[cnvt_key] = eog_katakana[k]\n",
    "\n",
    "all_ref = defaultdict()\n",
    "all_ref['all'] = reference_data['numbers'].copy()\n",
    "for k in reference_data['katakana'].keys():\n",
    "    cnvt_key = katakana_le[k]\n",
    "    all_ref['all'][cnvt_key] = reference_data['katakana'][k]\n"
   ]
  },
  {
   "cell_type": "code",
   "execution_count": null,
   "metadata": {},
   "outputs": [],
   "source": [
    "save_path = '/home/donghyun/eye_writing_classification/experiments/save/'\n",
    "\n",
    "best_perform_df = pd.read_csv(save_path + 'experiment2_vit_hyperparams.csv')"
   ]
  },
  {
   "cell_type": "markdown",
   "metadata": {},
   "source": [
    "### Experiment"
   ]
  },
  {
   "cell_type": "code",
   "execution_count": null,
   "metadata": {},
   "outputs": [],
   "source": [
    "class ViT_Config:\n",
    "    split_ratio = 0.3\n",
    "    ref_key = 'all'\n",
    "    batch_size = 22            # fix : must be equaled with number of test pairs \n",
    "    n_batch = 100\n",
    "    lr = 0.0005\n",
    "    model_type = 'ViTBaseModel'\n",
    "    ViT_params = {}\n",
    "    epochs = 100"
   ]
  },
  {
   "cell_type": "code",
   "execution_count": null,
   "metadata": {},
   "outputs": [],
   "source": [
    "top_k = 1\n",
    "\n",
    "cfg_list = []\n",
    "for i in range(top_k):\n",
    "    cfg = ViT_Config()\n",
    "    cfg.ViT_params = best_perform_df.iloc[i].to_dict()\n",
    "    cfg.ViT_params['mlp_units'] = re.sub('[\\[\\]]','',cfg.ViT_params['mlp_units'])\n",
    "    cfg.ViT_params['mlp_units'] = list(map(int,cfg.ViT_params['mlp_units'].split(',')))       # str to list\n",
    "    cfg.ViT_params['batch_size'] = cfg.batch_size\n",
    "\n",
    "    cfg_list.append(cfg)"
   ]
  },
  {
   "cell_type": "code",
   "execution_count": null,
   "metadata": {},
   "outputs": [],
   "source": [
    "classes = all_data.keys()\n",
    "\n",
    "result_dict = defaultdict(list)\n",
    "times = 5\n",
    "for t in range(times):\n",
    "    print('times : ', t)\n",
    "    for k in classes:\n",
    "        zero_shot_cls = k\n",
    "\n",
    "        # train without a class for zero shot learning\n",
    "        model_list = []\n",
    "        for i, cfg in enumerate(cfg_list):\n",
    "            model, _, _, _ = utils.experiment(cfg, all_data, all_ref, zero_shot_cls=zero_shot_cls)\n",
    "            model_list.append(model)\n",
    "\n",
    "        # zero shot inference\n",
    "        zero_shot_batch, zero_shot_targets = dh.get_zero_shot_batch(all_data, all_ref, ref_key='all', zero_shot_cls=zero_shot_cls)\n",
    "\n",
    "        correct = 0\n",
    "        i = 0\n",
    "        for batch in zip(zero_shot_batch, zero_shot_targets):\n",
    "            data, target = batch\n",
    "\n",
    "            probs = np.zeros((target.shape[0],1))\n",
    "            for m in model_list:\n",
    "                probs += model.predict_on_batch(data)\n",
    "            \n",
    "            if np.argmax(probs) == np.argmax(target):\n",
    "                correct += 1\n",
    "            i+=1\n",
    "        \n",
    "        acc = (correct/i)*100\n",
    "        result_dict[k].append(round(acc,4))\n",
    "\n",
    "        print('class : {}\\'s accuracy using ensemble : {:.4f}%'.format(k, acc))\n",
    "        tf.keras.backend.clear_session()\n"
   ]
  },
  {
   "cell_type": "markdown",
   "metadata": {},
   "source": [
    "### Save"
   ]
  },
  {
   "cell_type": "code",
   "execution_count": null,
   "metadata": {},
   "outputs": [],
   "source": [
    "save_path = '/home/donghyun/eye_writing_classification/experiments/save/'\n",
    "\n",
    "with open(save_path + 'experiment4_zero_shot_results.json', 'w') as f:\n",
    "    json.dump(dict(result_dict),f)"
   ]
  },
  {
   "cell_type": "markdown",
   "metadata": {},
   "source": [
    "### Visualization"
   ]
  },
  {
   "cell_type": "code",
   "execution_count": null,
   "metadata": {},
   "outputs": [],
   "source": [
    "save_path = '/home/donghyun/eye_writing_classification/experiments/save/'\n",
    "\n",
    "with open(save_path+'experiment4_zero_shot_results_ensemble.json') as f:\n",
    "    ensemble_zero_shot_dict = json.load(f)\n",
    "\n",
    "with open(save_path+'experiment4_zero_shot_results_best_param.json') as f:\n",
    "    best_params_zero_shot_dict = json.load(f)\n",
    "    "
   ]
  },
  {
   "cell_type": "code",
   "execution_count": null,
   "metadata": {},
   "outputs": [],
   "source": [
    "for k in ensemble_zero_shot_dict.keys():\n",
    "    print('zero shot class {}\\'s accuracy : {}'.format(k, ensemble_zero_shot_dict[k]))"
   ]
  },
  {
   "cell_type": "code",
   "execution_count": null,
   "metadata": {},
   "outputs": [],
   "source": [
    "for k in best_params_zero_shot_dict.keys():\n",
    "    print('zero shot class {}\\'s accuracy : {}'.format(k, best_params_zero_shot_dict[k]))"
   ]
  },
  {
   "cell_type": "code",
   "execution_count": null,
   "metadata": {},
   "outputs": [],
   "source": []
  }
 ],
 "metadata": {
  "kernelspec": {
   "display_name": "Python 3.10.0 ('eog')",
   "language": "python",
   "name": "python3"
  },
  "language_info": {
   "codemirror_mode": {
    "name": "ipython",
    "version": 3
   },
   "file_extension": ".py",
   "mimetype": "text/x-python",
   "name": "python",
   "nbconvert_exporter": "python",
   "pygments_lexer": "ipython3",
   "version": "3.10.0"
  },
  "orig_nbformat": 4,
  "vscode": {
   "interpreter": {
    "hash": "db961e0436efeabab578e79efd22f04ed4082e196e7e1c09c24525d7c028a5aa"
   }
  }
 },
 "nbformat": 4,
 "nbformat_minor": 2
}
