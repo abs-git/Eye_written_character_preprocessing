{
 "cells": [
  {
   "cell_type": "code",
   "execution_count": null,
   "metadata": {},
   "outputs": [],
   "source": [
    "import json\n",
    "import utils\n",
    "import data_handler as dh\n",
    "\n",
    "from collections import defaultdict\n",
    "from itertools import product\n",
    "\n",
    "import pandas as pd\n",
    "import numpy as np"
   ]
  },
  {
   "cell_type": "markdown",
   "metadata": {},
   "source": [
    "### Data settting"
   ]
  },
  {
   "cell_type": "code",
   "execution_count": null,
   "metadata": {},
   "outputs": [],
   "source": [
    "data_path = '/home/donghyun/eye_writing_classification/v2_dataset/200_points_dataset/'\n",
    "\n",
    "with open(data_path + 'eog_raw_numbers_200.json') as f:\n",
    "  eog_raw_numbers = json.load(f)\n",
    "\n",
    "with open(data_path + 'eog_katakana_200.json') as f:\n",
    "  eog_katakana = json.load(f)\n",
    "\n",
    "with open(data_path + 'reference_data_200.json') as f:\n",
    "  reference_data = json.load(f)"
   ]
  },
  {
   "cell_type": "code",
   "execution_count": null,
   "metadata": {},
   "outputs": [],
   "source": [
    "katakana_le = {'1':'10', '2':'11', '3':'12', '4':'13', '5':'14',\n",
    "               '6':'15', '7':'16', '8':'17', '9':'18', '10':'19',\n",
    "               '11':'20', '12':'21'}\n",
    "\n",
    "all_data = eog_raw_numbers.copy()\n",
    "for k in eog_katakana.keys():\n",
    "    cnvt_key = katakana_le[k]\n",
    "    all_data[cnvt_key] = eog_katakana[k]\n",
    "\n",
    "all_ref = defaultdict()\n",
    "all_ref['all'] = reference_data['numbers'].copy()\n",
    "for k in reference_data['katakana'].keys():\n",
    "    cnvt_key = katakana_le[k]\n",
    "    all_ref['all'][cnvt_key] = reference_data['katakana'][k]\n"
   ]
  },
  {
   "cell_type": "code",
   "execution_count": null,
   "metadata": {},
   "outputs": [],
   "source": [
    "save_path = '/home/donghyun/eye_writing_classification/experiments/save/'\n",
    "\n",
    "best_perform_df = pd.read_csv(save_path + 'experiment2_vit_hyperparams.csv')"
   ]
  },
  {
   "cell_type": "markdown",
   "metadata": {},
   "source": [
    "### Experiment"
   ]
  },
  {
   "cell_type": "code",
   "execution_count": null,
   "metadata": {},
   "outputs": [],
   "source": [
    "class ViT_Config:\n",
    "    split_ratio = 0.3\n",
    "    ref_key = 'all'\n",
    "    batch_size = 22            # fix : must be equaled with number of test pairs \n",
    "    n_batch = 50\n",
    "    model_type = 'ViTBaseModel'\n",
    "    ViT_params = {}\n",
    "    epochs = 1000"
   ]
  },
  {
   "cell_type": "code",
   "execution_count": null,
   "metadata": {},
   "outputs": [],
   "source": [
    "cfg_list = []\n",
    "for i in range(5):\n",
    "    cfg = ViT_Config()\n",
    "    cfg.ViT_params = best_perform_df.loc[i]\n",
    "    cfg.ViT_params['mlp_units'] = list(map(int, cfg.ViT_params['mlp_units']))\n",
    "    cfg_list.append(cfg)"
   ]
  },
  {
   "cell_type": "code",
   "execution_count": null,
   "metadata": {},
   "outputs": [],
   "source": [
    "classes = all_data.keys()\n",
    "\n",
    "result_dict = defaultdict()\n",
    "for k in classes:\n",
    "    zero_shot_cls = k\n",
    "    zero_shot_data = all_data[zero_shot_cls].copy()\n",
    "    zero_shot_ref = all_ref['all'][zero_shot_cls].copy()\n",
    "\n",
    "    learn_data = all_data.pop(zero_shot_cls).copy()\n",
    "    learn_ref = all_ref['all'].pop(zero_shot_cls).copy()\n",
    "\n",
    "    # train without a class for zero shot learning\n",
    "    model_list = []\n",
    "    for i, cfg in enumerate(cfg_list):\n",
    "        model ,_ ,_ ,_ = utils.experiment(cfg, learn_data, learn_ref)\n",
    "        model_list.append(model)\n",
    "\n",
    "    # zero shot inference\n",
    "    zero_shot_batch, zero_shot_targets = dh.get_test_batch(zero_shot_data, zero_shot_ref, ref_key='all')\n",
    "\n",
    "    correct = 0\n",
    "    i = 0\n",
    "    for batch in zip(zero_shot_batch, zero_shot_targets):\n",
    "        data, target = batch\n",
    "\n",
    "        probs = np.zeros((data.shape[0],1))\n",
    "        for m in model_list:\n",
    "            probs += model.predict_on_batch(data)\n",
    "        \n",
    "        if np.argmax(probs) == np.argmax(target):\n",
    "            correct += 1\n",
    "        i+=1\n",
    "    \n",
    "    acc = (correct/i)*100\n",
    "    result_dict[k] = acc\n",
    "\n",
    "    print('class : {}\\'s accuracy using ensemble : {:.4f}%'.format(k, acc))\n",
    "\n",
    "clear_output()"
   ]
  },
  {
   "cell_type": "markdown",
   "metadata": {},
   "source": [
    "### Save"
   ]
  },
  {
   "cell_type": "code",
   "execution_count": null,
   "metadata": {},
   "outputs": [],
   "source": [
    "save_path = '/home/donghyun/eye_writing_classification/experiments/save/'\n",
    "\n",
    "with open(save_path + 'experiment4_zero_shot_results.json', 'w') as f:\n",
    "    json.dump(dict(result_dict),f)"
   ]
  },
  {
   "cell_type": "markdown",
   "metadata": {},
   "source": [
    "### Visualization"
   ]
  },
  {
   "cell_type": "code",
   "execution_count": null,
   "metadata": {},
   "outputs": [],
   "source": [
    "save_path = '/home/donghyun/eye_writing_classification/experiments/save/'\n",
    "\n",
    "zero_shot_dict = json.dumps(save_path + 'experiment4_zero_shot_results.json')"
   ]
  },
  {
   "cell_type": "code",
   "execution_count": null,
   "metadata": {},
   "outputs": [],
   "source": []
  }
 ],
 "metadata": {
  "kernelspec": {
   "display_name": "Python 3.10.0 ('eog')",
   "language": "python",
   "name": "python3"
  },
  "language_info": {
   "name": "python",
   "version": "3.10.0"
  },
  "orig_nbformat": 4,
  "vscode": {
   "interpreter": {
    "hash": "db961e0436efeabab578e79efd22f04ed4082e196e7e1c09c24525d7c028a5aa"
   }
  }
 },
 "nbformat": 4,
 "nbformat_minor": 2
}
