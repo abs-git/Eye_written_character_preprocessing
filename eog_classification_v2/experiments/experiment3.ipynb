{
 "cells": [
  {
   "cell_type": "markdown",
   "metadata": {},
   "source": [
    "## Experiment 3\n",
    "<br>\n",
    "-- Combination of raw numbers and katakana characters\n",
    "\n"
   ]
  },
  {
   "cell_type": "code",
   "execution_count": 1,
   "metadata": {},
   "outputs": [],
   "source": [
    "import json\n",
    "import utils\n",
    "import data_handler as dh\n",
    "\n",
    "from collections import defaultdict\n",
    "from itertools import product\n",
    "from IPython.display import clear_output\n",
    "\n",
    "import pandas as pd\n",
    "import numpy as np"
   ]
  },
  {
   "cell_type": "markdown",
   "metadata": {},
   "source": [
    "### Data setting"
   ]
  },
  {
   "cell_type": "code",
   "execution_count": 2,
   "metadata": {},
   "outputs": [],
   "source": [
    "data_path = '/home/donghyun/eye_writing_classification/v2_dataset/200_points_dataset/'\n",
    "\n",
    "with open(data_path + 'eog_raw_numbers_200.json') as f:\n",
    "  eog_raw_numbers = json.load(f)\n",
    "\n",
    "with open(data_path + 'eog_katakana_200.json') as f:\n",
    "  eog_katakana = json.load(f)\n",
    "\n",
    "with open(data_path + 'reference_data_200.json') as f:\n",
    "  reference_data = json.load(f)"
   ]
  },
  {
   "cell_type": "code",
   "execution_count": 4,
   "metadata": {},
   "outputs": [
    {
     "name": "stdout",
     "output_type": "stream",
     "text": [
      "dict_keys(['1', '2', '3', '4', '5', '6', '7', '8', '9', '10', '11', '12'])\n",
      "dict_keys(['0', '1', '2', '3', '4', '5', '6', '7', '8', '9'])\n"
     ]
    }
   ],
   "source": [
    "print(eog_katakana.keys())\n",
    "print(eog_raw_numbers.keys())"
   ]
  },
  {
   "cell_type": "code",
   "execution_count": null,
   "metadata": {},
   "outputs": [],
   "source": [
    "# katakana class를 10~21으로 치환 후 merge\n",
    "\n",
    "katakana_le = {'1':'10', '2':'11', '3':'12', '4':'13', '5':'14',\n",
    "               '6':'15', '7':'16', '8':'17', '9':'18', '10':'19',\n",
    "               '11':'20', '12':'21'}\n",
    "\n",
    "all_data = eog_raw_numbers.copy()\n",
    "for k in eog_katakana.keys():\n",
    "    cnvt_key = katakana_le[k]\n",
    "    all_data[cnvt_key] = eog_katakana[k]\n",
    "\n",
    "all_ref = defaultdict()\n",
    "all_ref['all'] = reference_data['numbers'].copy()\n",
    "for k in reference_data['katakana'].keys():\n",
    "    cnvt_key = katakana_le[k]\n",
    "    all_ref['all'][cnvt_key] = reference_data['katakana'][k]\n",
    "\n",
    "\n",
    "print(all_data.keys())\n",
    "print(np.array(all_data['0']).shape)\n",
    "print(np.array(all_data['11']).shape)\n",
    "print(all_ref.keys())\n",
    "print(all_ref['all'].keys())\n",
    "print(np.array(all_ref['all']['0']).shape)\n",
    "print(np.array(all_ref['all']['11']).shape)"
   ]
  },
  {
   "cell_type": "code",
   "execution_count": null,
   "metadata": {},
   "outputs": [],
   "source": [
    "save_path = '/home/donghyun/eye_writing_classification/experiments/save/'\n",
    "\n",
    "best_perform_df = pd.read_csv(save_path + 'experiment2_vit_hyperparams.csv')"
   ]
  },
  {
   "cell_type": "markdown",
   "metadata": {},
   "source": [
    "### Experiment"
   ]
  },
  {
   "cell_type": "code",
   "execution_count": null,
   "metadata": {},
   "outputs": [],
   "source": [
    "# Config class\n",
    "\n",
    "class ViT_Config:\n",
    "    split_ratio = 0.3\n",
    "    ref_key = 'all'\n",
    "    batch_size = 22            # fix : must be equaled with number of test pairs \n",
    "    n_batch = 50\n",
    "    model_type = 'ViTBaseModel'\n",
    "    ViT_params = {}\n",
    "    epochs = 1000\n",
    "\n",
    "\n",
    "class Hyb_Config:\n",
    "    split_ratio = 0.3\n",
    "    ref_key = 'all'\n",
    "    batch_size = 16               # fix : Not must be equaled with number of test pairs \n",
    "    n_batch = 50\n",
    "    model_type = 'HybridBaseModel'\n",
    "    epochs = 1000"
   ]
  },
  {
   "cell_type": "code",
   "execution_count": null,
   "metadata": {},
   "outputs": [],
   "source": [
    "vit_cfg = ViT_Config()\n",
    "hyb_cfg = Hyb_Config()\n",
    "\n",
    "vit_cfg = ViT_Config()\n",
    "vit_cfg.ViT_params = best_perform_df.loc[0]\n",
    "vit_cfg.ViT_params['mlp_units'] = list(map(int, vit_cfg.ViT_params['mlp_units']))\n",
    "\n",
    "vit_dict = defaultdict(list)\n",
    "bybrid_dict = defaultdict(list)\n",
    "\n",
    "times = 10\n",
    "for t in range(times):\n",
    "\n",
    "    _, vit_train_acc, vit_train_loss, vit_test_acc = utils.experiment(vit_cfg, all_data, all_ref)\n",
    "    _, hyb_train_acc, hyb_train_loss, hyb_test_acc = utils.experiment(hyb_cfg, all_data, all_ref)\n",
    "\n",
    "    vit_dict[t] = [vit_train_acc, vit_train_loss, vit_test_acc]\n",
    "    bybrid_dict[t] = [hyb_train_acc, hyb_train_loss, hyb_test_acc]\n",
    "\n",
    "\n",
    "clear_output()"
   ]
  },
  {
   "cell_type": "markdown",
   "metadata": {},
   "source": [
    "### Save"
   ]
  },
  {
   "cell_type": "code",
   "execution_count": null,
   "metadata": {},
   "outputs": [],
   "source": [
    "import json\n",
    "\n",
    "save_path = '/home/donghyun/eye_writing_classification/experiments/save/'\n",
    "\n",
    "with open(save_path + 'experiment3_ViT_results.json', 'w') as f:\n",
    "    json.dump(dict(vit_dict),f)\n",
    "\n",
    "with open(save_path + 'experiment3_Hybrid_results.json', 'w') as f:\n",
    "    json.dump(dict(bybrid_dict),f)"
   ]
  },
  {
   "cell_type": "markdown",
   "metadata": {},
   "source": [
    "### Visualization"
   ]
  },
  {
   "cell_type": "code",
   "execution_count": null,
   "metadata": {},
   "outputs": [],
   "source": [
    "save_path = '/home/donghyun/eye_writing_classification/experiments/save/'\n",
    "\n",
    "vit_dict = json.dumps(save_path + 'experiment3_ViT_results.json')\n",
    "bybrid_dict = json.dumps(save_path + 'experiment3_Hybrid_results.json')"
   ]
  },
  {
   "cell_type": "code",
   "execution_count": null,
   "metadata": {},
   "outputs": [],
   "source": []
  }
 ],
 "metadata": {
  "kernelspec": {
   "display_name": "Python 3.10.0 ('eog')",
   "language": "python",
   "name": "python3"
  },
  "language_info": {
   "codemirror_mode": {
    "name": "ipython",
    "version": 3
   },
   "file_extension": ".py",
   "mimetype": "text/x-python",
   "name": "python",
   "nbconvert_exporter": "python",
   "pygments_lexer": "ipython3",
   "version": "3.10.0"
  },
  "orig_nbformat": 4,
  "vscode": {
   "interpreter": {
    "hash": "db961e0436efeabab578e79efd22f04ed4082e196e7e1c09c24525d7c028a5aa"
   }
  }
 },
 "nbformat": 4,
 "nbformat_minor": 2
}
