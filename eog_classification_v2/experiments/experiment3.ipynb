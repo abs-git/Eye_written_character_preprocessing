{
 "cells": [
  {
   "cell_type": "markdown",
   "metadata": {},
   "source": [
    "## Experiment 3\n",
    "<br>\n",
    "-- Combination of raw numbers and katakana characters\n",
    "\n"
   ]
  },
  {
   "cell_type": "code",
   "execution_count": null,
   "metadata": {},
   "outputs": [],
   "source": [
    "import json\n",
    "import re\n",
    "import data_handler as dh\n",
    "import utils\n",
    "\n",
    "from collections import defaultdict\n",
    "from itertools import product\n",
    "from IPython.display import clear_output\n",
    "\n",
    "import pandas as pd\n",
    "import numpy as np"
   ]
  },
  {
   "cell_type": "markdown",
   "metadata": {},
   "source": [
    "### Data setting"
   ]
  },
  {
   "cell_type": "code",
   "execution_count": null,
   "metadata": {},
   "outputs": [],
   "source": [
    "data_path = '/home/donghyun/eye_writing_classification/v2_dataset/200_points_dataset/'\n",
    "\n",
    "with open(data_path + 'eog_raw_numbers_200.json') as f:\n",
    "  eog_raw_numbers = json.load(f)\n",
    "\n",
    "with open(data_path + 'eog_katakana_200.json') as f:\n",
    "  eog_katakana = json.load(f)\n",
    "\n",
    "with open(data_path + 'reference_data_200.json') as f:\n",
    "  reference_data = json.load(f)"
   ]
  },
  {
   "cell_type": "code",
   "execution_count": null,
   "metadata": {},
   "outputs": [],
   "source": [
    "print(eog_katakana.keys())\n",
    "print(eog_raw_numbers.keys())"
   ]
  },
  {
   "cell_type": "code",
   "execution_count": null,
   "metadata": {},
   "outputs": [],
   "source": [
    "# katakana class를 10~21으로 치환 후 merge\n",
    "\n",
    "katakana_le = {'1':'10', '2':'11', '3':'12', '4':'13', '5':'14',\n",
    "               '6':'15', '7':'16', '8':'17', '9':'18', '10':'19',\n",
    "               '11':'20', '12':'21'}\n",
    "\n",
    "all_data = eog_raw_numbers.copy()\n",
    "for k in eog_katakana.keys():\n",
    "    cnvt_key = katakana_le[k]\n",
    "    all_data[cnvt_key] = eog_katakana[k]\n",
    "\n",
    "all_ref = defaultdict()\n",
    "all_ref['all'] = reference_data['numbers'].copy()\n",
    "for k in reference_data['katakana'].keys():\n",
    "    cnvt_key = katakana_le[k]\n",
    "    all_ref['all'][cnvt_key] = reference_data['katakana'][k]\n",
    "\n",
    "\n",
    "print(all_data.keys())\n",
    "print(np.array(all_data['0']).shape)\n",
    "print(np.array(all_data['11']).shape)\n",
    "print(all_ref.keys())\n",
    "print(all_ref['all'].keys())\n",
    "print(np.array(all_ref['all']['0']).shape)\n",
    "print(np.array(all_ref['all']['11']).shape)"
   ]
  },
  {
   "cell_type": "code",
   "execution_count": null,
   "metadata": {},
   "outputs": [],
   "source": [
    "save_path = '/home/donghyun/eye_writing_classification/experiments/save/'\n",
    "\n",
    "best_perform_df = pd.read_csv(save_path + 'experiment2_vit_hyperparams.csv')"
   ]
  },
  {
   "cell_type": "markdown",
   "metadata": {},
   "source": [
    "### Experiment"
   ]
  },
  {
   "cell_type": "code",
   "execution_count": null,
   "metadata": {},
   "outputs": [],
   "source": [
    "# Config class\n",
    "\n",
    "class Config:\n",
    "    split_ratio = 0.3\n",
    "    ref_key = 'all'\n",
    "    batch_size = 22            # fix : must be equaled with number of test pairs \n",
    "    n_batch = 100\n",
    "    lr = 0.0001                 # default learning rate\n",
    "    model_type = 'ViTBaseModel'\n",
    "    ViT_params = {}\n",
    "    epochs = 100"
   ]
  },
  {
   "cell_type": "markdown",
   "metadata": {},
   "source": [
    "#### learning with hyperparameters of previous experiment"
   ]
  },
  {
   "cell_type": "code",
   "execution_count": null,
   "metadata": {},
   "outputs": [],
   "source": [
    "cfg = Config()\n",
    "\n",
    "cfg.ViT_params = best_perform_df.iloc[0].to_dict()\n",
    "cfg.ViT_params['mlp_units'] = re.sub('[\\[\\]]','',cfg.ViT_params['mlp_units'])\n",
    "cfg.ViT_params['mlp_units'] = list(map(int,cfg.ViT_params['mlp_units'].split(',')))       # str to list\n",
    "cfg.ViT_params['batch_size'] = cfg.batch_size\n",
    "\n",
    "vit_dict = defaultdict(list)\n",
    "bybrid_dict = defaultdict(list)\n",
    "\n",
    "times = 10\n",
    "for t in range(times):\n",
    "    _, vit_train_acc, vit_train_loss, vit_test_acc = utils.experiment(cfg, all_data, all_ref, zero_shot_cls=None)\n",
    "    vit_dict[t] = [vit_train_acc, vit_train_loss, vit_test_acc]"
   ]
  },
  {
   "cell_type": "code",
   "execution_count": null,
   "metadata": {},
   "outputs": [],
   "source": [
    "# results save\n",
    "save_path = '/home/donghyun/eye_writing_classification/experiments/save/'\n",
    "\n",
    "with open(save_path + 'experiment3_all_prev_params_results.json', 'w') as f:\n",
    "    json.dump(dict(vit_dict),f)"
   ]
  },
  {
   "cell_type": "markdown",
   "metadata": {},
   "source": [
    "#### Searching the new hyperparameters"
   ]
  },
  {
   "cell_type": "code",
   "execution_count": null,
   "metadata": {},
   "outputs": [],
   "source": [
    "# new hyperparameters list\n",
    "\n",
    "vit_hidden_size = [128,256,512]\n",
    "vit_patch_size = [5,10]\n",
    "vit_heads = [8,16]\n",
    "vit_n_layers = [12,16]\n",
    "vit_mlp_units = [[256,128],\n",
    "                 [128,64]]\n",
    "vit_dropout = [0]\n",
    "vit_mlp_dropout = [0]"
   ]
  },
  {
   "cell_type": "code",
   "execution_count": null,
   "metadata": {},
   "outputs": [],
   "source": [
    "# grid search for hyperparameters\n",
    "\n",
    "cols = ['hidden_size', 'batch_size', 'patch_size', 'heads', 'n_layers', 'mlp_units', 'dropout', 'mlp_dropout', 'score']\n",
    "best_perform_df = pd.DataFrame(columns=cols)\n",
    "\n",
    "i = 0\n",
    "for hs, ps, heads, n_layers, mlp_units, dropout, mlp_dropout in product(vit_hidden_size,\n",
    "                                                                            vit_patch_size,\n",
    "                                                                            vit_heads,\n",
    "                                                                            vit_n_layers,\n",
    "                                                                            vit_mlp_units,\n",
    "                                                                            vit_dropout,\n",
    "                                                                            vit_mlp_dropout\n",
    "                                                                            ):\n",
    "    i+=1\n",
    "    print('index : ', i)\n",
    "\n",
    "    cfg = Config()\n",
    "\n",
    "    cfg.ViT_params['hidden_size'] = hs\n",
    "    cfg.ViT_params['batch_size'] = cfg.batch_size\n",
    "    cfg.ViT_params['patch_size'] = ps\n",
    "    cfg.ViT_params['heads'] = heads\n",
    "    cfg.ViT_params['n_layers'] = n_layers\n",
    "    cfg.ViT_params['mlp_units'] = mlp_units\n",
    "    cfg.ViT_params['dropout'] = dropout\n",
    "    cfg.ViT_params['mlp_dropout'] = mlp_dropout\n",
    "\n",
    "    _, _, _, test_acc_list = utils.experiment(cfg, all_data, all_ref)\n",
    "    score = np.mean(test_acc_list[-3:])\n",
    "\n",
    "    best_perform_df.loc[i] = [hs, cfg.batch_size, ps, heads, n_layers, str(mlp_units), dropout, mlp_dropout, score]\n",
    "\n",
    "best_perform_df = best_perform_df.sort_values(by='score',ascending=False)"
   ]
  },
  {
   "cell_type": "code",
   "execution_count": null,
   "metadata": {},
   "outputs": [],
   "source": [
    "# hyperparameters save\n",
    "\n",
    "save_path = '/home/donghyun/eye_writing_classification/experiments/save/'\n",
    "best_perform_df.to_csv(save_path+'experiment3_new_hyperparams.csv', index=True)"
   ]
  },
  {
   "cell_type": "code",
   "execution_count": null,
   "metadata": {},
   "outputs": [],
   "source": [
    "# load the hyperparameters\n",
    "\n",
    "save_path = '/home/donghyun/eye_writing_classification/experiments/save/'\n",
    "best_perform_df = pd.read_csv(save_path+'experiment3_new_hyperparams.csv')\n",
    "\n",
    "best_perform_df.head(10)"
   ]
  },
  {
   "cell_type": "code",
   "execution_count": null,
   "metadata": {},
   "outputs": [],
   "source": [
    "best_params = best_perform_df.iloc[0].to_dict()\n",
    "best_params['mlp_units'] = re.sub('[\\[\\]]','',best_params['mlp_units'])\n",
    "best_params['mlp_units'] = list(map(int,best_params['mlp_units'].split(',')))       # str to list\n",
    "\n",
    "cfg = Config\n",
    "cfg.ViT_params = best_params\n",
    "\n",
    "times = 10\n",
    "vit_all_result = defaultdict(list)\n",
    "for t in range(times):\n",
    "    _, all_train_acc, all_train_loss, all_test_acc = utils.experiment(cfg, all_data, all_ref)\n",
    "    vit_all_result[t] = [all_train_acc, all_train_loss, all_test_acc]"
   ]
  },
  {
   "cell_type": "code",
   "execution_count": null,
   "metadata": {},
   "outputs": [],
   "source": [
    "# save the result\n",
    "\n",
    "with open(save_path + 'experiment3_all_new_params_results.json', 'w') as f:\n",
    "    json.dump(dict(vit_all_result),f)"
   ]
  },
  {
   "cell_type": "markdown",
   "metadata": {},
   "source": [
    "### Visualization"
   ]
  },
  {
   "cell_type": "code",
   "execution_count": null,
   "metadata": {},
   "outputs": [],
   "source": [
    "save_path = '/home/donghyun/eye_writing_classification/experiments/save/'\n",
    "\n",
    "with open(save_path+'experiment3_all_prev_params_results.json') as f:\n",
    "    all_prev_results = json.load(f)\n",
    "\n",
    "with open(save_path+'experiment3_all_new_params_results.json') as f:\n",
    "    all_new_results = json.load(f)"
   ]
  },
  {
   "cell_type": "code",
   "execution_count": null,
   "metadata": {},
   "outputs": [],
   "source": [
    "prev_test_acc = []\n",
    "new_test_acc = []\n",
    "for t in range(10):\n",
    "    key = str(t)\n",
    "    prev = list(map(int, all_prev_results[key][2]))\n",
    "    new = list(map(int, all_new_results[key][2]))\n",
    "    prev_test_acc.append(prev)\n",
    "    new_test_acc.append(new)\n",
    "\n",
    "prev_avg_results = np.array(prev_test_acc).mean(axis=0)\n",
    "new_avg_results  =np.array(new_test_acc).mean(axis=0)"
   ]
  },
  {
   "cell_type": "code",
   "execution_count": null,
   "metadata": {},
   "outputs": [],
   "source": [
    "def analysis(data_list):\n",
    "    return np.mean(data_list), max(data_list), min(data_list), np.std(data_list)\n",
    "\n",
    "prev_all_test_performance = [t[-1] for t in prev_test_acc]\n",
    "new_all_test_performance = [t[-1] for t in new_test_acc]\n",
    "\n",
    "print('Accuracy base on raw numbers with 10 repetitions')\n",
    "print(' '*29 +'1,     2,    3,      4,      5,      6,     7,     8,     9,     10,       Avg.   Best.   Worst.  Std.')\n",
    "print('prev vit model performance : {}, {}'.format(prev_all_test_performance, analysis(prev_all_test_performance)))\n",
    "print('new vit model performance  : {}, {}'.format(new_all_test_performance, analysis(new_all_test_performance)))"
   ]
  },
  {
   "cell_type": "code",
   "execution_count": null,
   "metadata": {},
   "outputs": [],
   "source": [
    "import matplotlib.pyplot as plt\n",
    "\n",
    "fig, axes = plt.subplots(1,2, figsize = (20,8))\n",
    "\n",
    "# test accuracy\n",
    "axes[0].plot(prev_avg_results, c = 'b', linestyle = 'solid', linewidth = 3)\n",
    "axes[0].plot(new_avg_results, c = 'r', linestyle = 'solid', linewidth = 3)\n",
    "\n",
    "axes[0].set_ylim(20,100)\n",
    "\n",
    "axes[0].set_title(\"Evaluation\", fontsize=20)\n",
    "axes[0].set_xlabel('Epoch', fontsize = 20)\n",
    "axes[0].set_ylabel('Accuracy', fontsize = 20)\n",
    "\n",
    "axes[0].legend(['prev hyperparams ViT', 'new hyperparams ViT'], fontsize = 15)\n",
    "\n",
    "# plot\n",
    "plt.show()"
   ]
  },
  {
   "cell_type": "code",
   "execution_count": null,
   "metadata": {},
   "outputs": [],
   "source": []
  }
 ],
 "metadata": {
  "kernelspec": {
   "display_name": "Python 3.10.0 ('eog')",
   "language": "python",
   "name": "python3"
  },
  "language_info": {
   "codemirror_mode": {
    "name": "ipython",
    "version": 3
   },
   "file_extension": ".py",
   "mimetype": "text/x-python",
   "name": "python",
   "nbconvert_exporter": "python",
   "pygments_lexer": "ipython3",
   "version": "3.10.0"
  },
  "orig_nbformat": 4,
  "vscode": {
   "interpreter": {
    "hash": "db961e0436efeabab578e79efd22f04ed4082e196e7e1c09c24525d7c028a5aa"
   }
  }
 },
 "nbformat": 4,
 "nbformat_minor": 2
}
