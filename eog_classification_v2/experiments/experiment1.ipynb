{
 "cells": [
  {
   "cell_type": "markdown",
   "metadata": {},
   "source": [
    "## Experiment 1\n",
    "<br>\n",
    "-- Numbers data with eye-blink removed vs Raw numbers data\n"
   ]
  },
  {
   "cell_type": "code",
   "execution_count": 1,
   "metadata": {},
   "outputs": [],
   "source": [
    "import json\n",
    "import utils\n",
    "from data_handler import plot_images\n",
    "\n",
    "import numpy as np\n",
    "\n",
    "from collections import defaultdict\n",
    "\n",
    "from IPython.display import clear_output"
   ]
  },
  {
   "cell_type": "markdown",
   "metadata": {},
   "source": [
    "### Data Load"
   ]
  },
  {
   "cell_type": "code",
   "execution_count": 2,
   "metadata": {},
   "outputs": [],
   "source": [
    "data_path = '/home/donghyun/eye_writing_classification/v2_dataset/200_points_dataset/'\n",
    "\n",
    "with open(data_path + 'eog_raw_numbers_200.json') as f:\n",
    "  eog_raw_numbers = json.load(f)\n",
    "\n",
    "with open(data_path + 'eog_eb_remove_numbers_200.json') as f:\n",
    "  eog_eb_remove_numbers = json.load(f)\n",
    "\n",
    "with open(data_path + 'reference_data_200.json') as f:\n",
    "  reference_data = json.load(f)"
   ]
  },
  {
   "cell_type": "markdown",
   "metadata": {},
   "source": [
    "### Experiment"
   ]
  },
  {
   "cell_type": "code",
   "execution_count": null,
   "metadata": {},
   "outputs": [],
   "source": [
    "# 10 times experiments with raw numbers and eye-blink removed numbers data using HybridBaseModel\n",
    "\n",
    "class Config:\n",
    "    split_ratio = 0.3\n",
    "    ref_key = 'numbers'\n",
    "    batch_size = 16               # fix : must be equaled with number of test pairs \n",
    "    n_batch = 50\n",
    "    model_type = 'HybridBaseModel'\n",
    "    epochs = 1000\n",
    "\n",
    "times = 10\n",
    "\n",
    "raw_numbers_dict = defaultdict(list)\n",
    "ebr_numbers_dict = defaultdict(list)\n",
    "for t in range(times):\n",
    "    cfg = Config()\n",
    "    \n",
    "    _, raw_train_acc, raw_train_loss, raw_test_acc = utils.experiment(cfg, eog_raw_numbers, reference_data)\n",
    "    _, ebr_train_acc, ebr_train_loss, ebr_test_acc = utils.experiment(cfg, eog_eb_remove_numbers, reference_data)\n",
    "\n",
    "    raw_numbers_dict[t] = [raw_train_acc, raw_train_loss, raw_test_acc]\n",
    "    ebr_numbers_dict[t] = [ebr_train_acc, ebr_train_loss, ebr_test_acc]\n",
    "\n",
    "clear_output()"
   ]
  },
  {
   "cell_type": "markdown",
   "metadata": {},
   "source": [
    "### Save"
   ]
  },
  {
   "cell_type": "code",
   "execution_count": null,
   "metadata": {},
   "outputs": [],
   "source": [
    "import json\n",
    "\n",
    "save_path = '/home/donghyun/eye_writing_classification/experiments/save/'\n",
    "\n",
    "with open(save_path + 'experiment1_raw_numbers_results.json', 'w') as f:\n",
    "    json.dump(dict(raw_numbers_dict),f)\n",
    "\n",
    "with open(save_path + 'experiment1_eb_removed_numbers_results.json', 'w') as f:\n",
    "    json.dump(dict(ebr_numbers_dict),f)"
   ]
  },
  {
   "cell_type": "markdown",
   "metadata": {},
   "source": [
    "### Visualization"
   ]
  },
  {
   "cell_type": "code",
   "execution_count": null,
   "metadata": {},
   "outputs": [],
   "source": [
    "save_path = '/home/donghyun/eye_writing_classification/experiments/save/'\n",
    "\n",
    "ex1_numbers_results = json.dumps(save_path + 'experiment1_raw_numbers_results.json')\n",
    "ex2_numbers_results = json.dumps(save_path + 'experiment1_eb_removed_numbers_results.json')"
   ]
  }
 ],
 "metadata": {
  "kernelspec": {
   "display_name": "Python 3.10.0 ('eog')",
   "language": "python",
   "name": "python3"
  },
  "language_info": {
   "codemirror_mode": {
    "name": "ipython",
    "version": 3
   },
   "file_extension": ".py",
   "mimetype": "text/x-python",
   "name": "python",
   "nbconvert_exporter": "python",
   "pygments_lexer": "ipython3",
   "version": "3.10.0"
  },
  "orig_nbformat": 4,
  "vscode": {
   "interpreter": {
    "hash": "db961e0436efeabab578e79efd22f04ed4082e196e7e1c09c24525d7c028a5aa"
   }
  }
 },
 "nbformat": 4,
 "nbformat_minor": 2
}
