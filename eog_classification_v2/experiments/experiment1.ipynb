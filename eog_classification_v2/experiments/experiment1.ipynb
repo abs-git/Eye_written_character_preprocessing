{
 "cells": [
  {
   "cell_type": "markdown",
   "metadata": {},
   "source": [
    "## Experiment 1\n",
    "<br>\n",
    "-- Numbers data with eye-blink removed vs Raw numbers data\n"
   ]
  },
  {
   "cell_type": "code",
   "execution_count": null,
   "metadata": {},
   "outputs": [],
   "source": [
    "import json\n",
    "import utils\n",
    "from data_handler import plot_images\n",
    "\n",
    "import numpy as np\n",
    "\n",
    "from collections import defaultdict\n",
    "\n",
    "from IPython.display import clear_output"
   ]
  },
  {
   "cell_type": "markdown",
   "metadata": {},
   "source": [
    "### Data Load"
   ]
  },
  {
   "cell_type": "code",
   "execution_count": null,
   "metadata": {},
   "outputs": [],
   "source": [
    "data_path = '/home/donghyun/eye_writing_classification/v2_dataset/200_points_dataset/'\n",
    "\n",
    "with open(data_path + 'eog_raw_numbers_200.json') as f:\n",
    "  eog_raw_numbers = json.load(f)\n",
    "\n",
    "with open(data_path + 'eog_eb_remove_numbers_200.json') as f:\n",
    "  eog_eb_remove_numbers = json.load(f)\n",
    "\n",
    "with open(data_path + 'reference_data_200.json') as f:\n",
    "  reference_data = json.load(f)"
   ]
  },
  {
   "cell_type": "markdown",
   "metadata": {},
   "source": [
    "### Experiment"
   ]
  },
  {
   "cell_type": "code",
   "execution_count": null,
   "metadata": {},
   "outputs": [],
   "source": [
    "# 10 times experiments with raw numbers and eye-blink removed numbers data using HybridBaseModel\n",
    "\n",
    "class Config:\n",
    "    split_ratio = 0.3\n",
    "    ref_key = 'numbers'\n",
    "    batch_size = 18               # fix : Not must be equaled with number of test pairs \n",
    "    n_batch = 100\n",
    "    lr = 0.001\n",
    "    model_type = 'HybridBaseModel'\n",
    "    epochs = 100\n",
    "\n",
    "times = 10\n",
    "\n",
    "raw_numbers_dict = defaultdict(list)\n",
    "ebr_numbers_dict = defaultdict(list)\n",
    "for t in range(times):\n",
    "    print('times :', t+1)\n",
    "    cfg = Config()\n",
    "    \n",
    "    _, ebr_train_acc, ebr_train_loss, ebr_test_acc = utils.experiment(cfg, eog_eb_remove_numbers, reference_data)\n",
    "    _, raw_train_acc, raw_train_loss, raw_test_acc = utils.experiment(cfg, eog_raw_numbers, reference_data)\n",
    "\n",
    "    ebr_numbers_dict[t] = [ebr_train_acc, ebr_train_loss, ebr_test_acc]\n",
    "    raw_numbers_dict[t] = [raw_train_acc, raw_train_loss, raw_test_acc]\n"
   ]
  },
  {
   "cell_type": "markdown",
   "metadata": {},
   "source": [
    "### Save"
   ]
  },
  {
   "cell_type": "code",
   "execution_count": null,
   "metadata": {},
   "outputs": [],
   "source": [
    "import json\n",
    "\n",
    "save_path = '/home/donghyun/eye_writing_classification/experiments/save/'\n",
    "\n",
    "with open(save_path + 'experiment1_raw_numbers_results.json', 'w') as f:\n",
    "    json.dump(dict(raw_numbers_dict),f)\n",
    "\n",
    "with open(save_path + 'experiment1_eb_removed_numbers_results.json', 'w') as f:\n",
    "    json.dump(dict(ebr_numbers_dict),f)"
   ]
  },
  {
   "cell_type": "markdown",
   "metadata": {},
   "source": [
    "### Visualization"
   ]
  },
  {
   "cell_type": "code",
   "execution_count": null,
   "metadata": {},
   "outputs": [],
   "source": [
    "save_path = '/home/donghyun/eye_writing_classification/experiments/save/'\n",
    "\n",
    "with open(save_path+'experiment1_raw_numbers_results.json') as f:\n",
    "    raw_numbers_results = json.load(f)\n",
    "\n",
    "with open(save_path+'experiment1_eb_removed_numbers_results.json') as f:\n",
    "    ebr_numbers_results = json.load(f)\n"
   ]
  },
  {
   "cell_type": "code",
   "execution_count": null,
   "metadata": {},
   "outputs": [],
   "source": [
    "raw_test_acc = []\n",
    "ebr_test_acc = []\n",
    "for t in range(10):\n",
    "    key = str(t)\n",
    "    raw_test_acc.append(raw_numbers_results[key][2])\n",
    "    ebr_test_acc.append(ebr_numbers_results[key][2])\n",
    "\n",
    "raw_avg_results = np.array(raw_test_acc).mean(axis=0)\n",
    "ebr_avg_results  =np.array(ebr_test_acc).mean(axis=0)"
   ]
  },
  {
   "cell_type": "code",
   "execution_count": null,
   "metadata": {},
   "outputs": [],
   "source": [
    "def analysis(data_list):\n",
    "    return np.mean(data_list), max(data_list), min(data_list), np.std(data_list)\n",
    "\n",
    "raw_numbers_test_performance = [t[-1] for t in raw_test_acc]\n",
    "ebr_numbers_test_performance = [t[-1] for t in ebr_test_acc]\n",
    "\n",
    "print('Accuracy with 10 repetitions')\n",
    "print(' '*29 +'1,     2,    3,      4,      5,      6,     7,     8,     9,     10,       Avg.   Best.   Worst.  Std.')\n",
    "print('without eye-blink removal : {}, {}'.format(raw_numbers_test_performance, analysis(raw_numbers_test_performance)))\n",
    "print('with eye-blink removal    : {}, {}'.format(ebr_numbers_test_performance, analysis(ebr_numbers_test_performance)))"
   ]
  },
  {
   "cell_type": "code",
   "execution_count": null,
   "metadata": {},
   "outputs": [],
   "source": [
    "import matplotlib.pyplot as plt\n",
    "\n",
    "fig, axes = plt.subplots(1,2, figsize = (20,8))\n",
    "\n",
    "# test accuracy\n",
    "axes[0].plot(raw_avg_results, c = 'b', linestyle = 'solid', linewidth = 3)\n",
    "axes[0].plot(ebr_avg_results, c = 'r', linestyle = 'solid', linewidth = 3)\n",
    "\n",
    "axes[0].set_ylim(20,100)\n",
    "\n",
    "axes[0].set_title(\"Evaluation\", fontsize=20)\n",
    "axes[0].set_xlabel('Epoch', fontsize = 20)\n",
    "axes[0].set_ylabel('Accuracy', fontsize = 20)\n",
    "\n",
    "axes[0].legend(['without eye-blink removal', 'with eye-blink removal'], fontsize = 15)\n",
    "\n",
    "# plot\n",
    "plt.show()"
   ]
  },
  {
   "cell_type": "code",
   "execution_count": null,
   "metadata": {},
   "outputs": [],
   "source": []
  }
 ],
 "metadata": {
  "kernelspec": {
   "display_name": "Python 3.10.0 ('eog')",
   "language": "python",
   "name": "python3"
  },
  "language_info": {
   "codemirror_mode": {
    "name": "ipython",
    "version": 3
   },
   "file_extension": ".py",
   "mimetype": "text/x-python",
   "name": "python",
   "nbconvert_exporter": "python",
   "pygments_lexer": "ipython3",
   "version": "3.10.0"
  },
  "orig_nbformat": 4,
  "vscode": {
   "interpreter": {
    "hash": "db961e0436efeabab578e79efd22f04ed4082e196e7e1c09c24525d7c028a5aa"
   }
  }
 },
 "nbformat": 4,
 "nbformat_minor": 2
}
