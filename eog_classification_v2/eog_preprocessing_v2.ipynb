{
  "cells": [
    {
      "cell_type": "code",
      "execution_count": 43,
      "metadata": {
        "colab": {
          "base_uri": "https://localhost:8080/"
        },
        "id": "SatzZ1c9qiCl",
        "outputId": "d8fa85dd-a6d7-491a-8e63-426a9a046591"
      },
      "outputs": [
        {
          "output_type": "stream",
          "name": "stdout",
          "text": [
            "Drive already mounted at /content/gdrive; to attempt to forcibly remount, call drive.mount(\"/content/gdrive\", force_remount=True).\n"
          ]
        }
      ],
      "source": [
        "from google.colab import drive\n",
        "drive.mount('/content/gdrive')"
      ]
    },
    {
      "cell_type": "code",
      "execution_count": 44,
      "metadata": {
        "id": "Ao5F51P2qkSx"
      },
      "outputs": [],
      "source": [
        "import json\n",
        "import os\n",
        "import copy\n",
        "import math\n",
        "import random\n",
        "import time\n",
        "\n",
        "from collections import defaultdict\n",
        "\n",
        "import numpy as np"
      ]
    },
    {
      "cell_type": "markdown",
      "metadata": {
        "id": "3O-5MNMJrjKU"
      },
      "source": [
        "## Data load"
      ]
    },
    {
      "cell_type": "code",
      "execution_count": 45,
      "metadata": {
        "id": "8t0_JoeYriUv"
      },
      "outputs": [],
      "source": [
        "save_path = '/content/gdrive/MyDrive/Colab Notebooks/Recognitaion_eye_written_char_with_siamese_net/v2_dataset/'\n",
        "\n",
        "with open(save_path + 'eog_raw_numbers.json') as f:\n",
        "  eog_raw_numbers = json.load(f)\n",
        "\n",
        "with open(save_path + 'eog_eb_removed_numbers.json') as f:\n",
        "  eog_eb_removed_numbers = json.load(f)\n",
        "\n",
        "with open(save_path + 'eog_katakana.json') as f:\n",
        "  eog_katakana = json.load(f)\n",
        "\n",
        "with open(save_path + 'reference_data.json') as f:\n",
        "  reference_data = json.load(f)\n"
      ]
    },
    {
      "cell_type": "code",
      "execution_count": 46,
      "metadata": {
        "colab": {
          "base_uri": "https://localhost:8080/"
        },
        "id": "6caDWf9ar8uP",
        "outputId": "6e7b586b-2630-45f2-b641-1925af1297c9"
      },
      "outputs": [
        {
          "output_type": "stream",
          "name": "stdout",
          "text": [
            "dict_keys(['0', '1', '2', '3', '4', '5', '6', '7', '8', '9'])\n",
            "54\n",
            "(1112, 2)\n",
            "(1161, 2)\n"
          ]
        }
      ],
      "source": [
        "# eog numbers without eye-blink removal\n",
        "\n",
        "print(eog_raw_numbers.keys())\n",
        "print(len(eog_raw_numbers['0']))\n",
        "print(np.array(eog_raw_numbers['0'][0]).shape)\n",
        "print(np.array(eog_raw_numbers['0'][1]).shape)"
      ]
    },
    {
      "cell_type": "code",
      "execution_count": 47,
      "metadata": {
        "colab": {
          "base_uri": "https://localhost:8080/"
        },
        "id": "-4HoZ_PPsePR",
        "outputId": "7914b01b-8068-4bc0-c25c-a95ede170a30"
      },
      "outputs": [
        {
          "output_type": "stream",
          "name": "stdout",
          "text": [
            "dict_keys(['0', '1', '2', '3', '4', '5', '6', '7', '8', '9'])\n",
            "54\n",
            "(333, 2)\n",
            "(343, 2)\n"
          ]
        }
      ],
      "source": [
        "# eog numbers passed eye-blink removal\n",
        "\n",
        "print(eog_eb_removed_numbers.keys())\n",
        "print(len(eog_eb_removed_numbers['0']))\n",
        "print(np.array(eog_eb_removed_numbers['0'][0]).shape)\n",
        "print(np.array(eog_eb_removed_numbers['0'][1]).shape)"
      ]
    },
    {
      "cell_type": "code",
      "execution_count": 48,
      "metadata": {
        "colab": {
          "base_uri": "https://localhost:8080/"
        },
        "id": "wuPnyQtbszf0",
        "outputId": "84e18047-b682-409c-f726-0c66b6e04b24"
      },
      "outputs": [
        {
          "output_type": "stream",
          "name": "stdout",
          "text": [
            "dict_keys(['1', '2', '3', '4', '5', '6', '7', '8', '9', '10', '11', '12'])\n",
            "60\n",
            "(1250, 2)\n",
            "(1250, 2)\n"
          ]
        }
      ],
      "source": [
        "# eog katakana\n",
        "\n",
        "print(eog_katakana.keys())\n",
        "print(len(eog_katakana['1']))\n",
        "print(np.array(eog_katakana['1'][0]).shape)\n",
        "print(np.array(eog_katakana['1'][1]).shape)"
      ]
    },
    {
      "cell_type": "code",
      "execution_count": 49,
      "metadata": {
        "colab": {
          "base_uri": "https://localhost:8080/"
        },
        "id": "DwvL9KREs5ax",
        "outputId": "74acf1b9-4b00-4cd6-fb12-1689ff93cd58"
      },
      "outputs": [
        {
          "output_type": "stream",
          "name": "stdout",
          "text": [
            "dict_keys(['katakana', 'numbers'])\n",
            "12\n",
            "10\n",
            "1440\n",
            "(1440, 2)\n",
            "1440\n",
            "(1440, 2)\n"
          ]
        }
      ],
      "source": [
        "# reference data\n",
        "\n",
        "print(reference_data.keys())\n",
        "print(len(reference_data['katakana']))\n",
        "print(len(reference_data['numbers']))\n",
        "\n",
        "print(len(reference_data['katakana']['1'][0]))\n",
        "print(np.array(reference_data['katakana']['1'][0]).shape)\n",
        "\n",
        "print(len(reference_data['numbers']['0'][0]))\n",
        "print(np.array(reference_data['numbers']['0'][0]).shape)\n"
      ]
    },
    {
      "cell_type": "markdown",
      "metadata": {
        "id": "bYzsonOj87jK"
      },
      "source": [
        "## plot function"
      ]
    },
    {
      "cell_type": "code",
      "execution_count": 50,
      "metadata": {
        "id": "1SUpEK3Y86pv"
      },
      "outputs": [],
      "source": [
        "# visualization\n",
        "\n",
        "import matplotlib.pyplot as plt\n",
        "\n",
        "def plot_images(data_dict):\n",
        "  classes = list(data_dict.keys())\n",
        "  n_cls = len(classes)\n",
        "  n_data = len(data_dict[classes[0]])\n",
        "\n",
        "  fig, axes = plt.subplots(n_data, n_cls, figsize=(5*n_cls, 5*n_data))\n",
        "\n",
        "  lim = [-1.1,1.1]\n",
        "  for i, cls in enumerate(classes):\n",
        "\n",
        "    if n_data == 1:\n",
        "      x,y = zip(*data_dict[cls][0])\n",
        "\n",
        "      axes[i].plot(x,y)\n",
        "      axes[i].scatter(x,y)\n",
        "\n",
        "      axes[i].set_xlim(lim)\n",
        "      axes[i].set_ylim(lim)      \n",
        "\n",
        "    else:\n",
        "      for j, idx in enumerate(range(n_data)):\n",
        "        x,y = zip(*data_dict[cls][idx])\n",
        "\n",
        "        axes[j][i].plot(x,y)\n",
        "        axes[j][i].scatter(x,y)\n",
        "\n",
        "        axes[j][i].set_xlim(lim)\n",
        "        axes[j][i].set_ylim(lim)      \n"
      ]
    },
    {
      "cell_type": "markdown",
      "metadata": {
        "id": "DI1QaF3duH_u"
      },
      "source": [
        "## preprocessing"
      ]
    },
    {
      "cell_type": "code",
      "execution_count": 51,
      "metadata": {
        "id": "MlyIOI8qtK1l"
      },
      "outputs": [],
      "source": [
        "# data normalization\n",
        "\n",
        "def normalization(data_dict, ref=None):\n",
        "  '''\n",
        "  일반적인 정규화는 0~1 사이의 값으로 변환하지만,\n",
        "  본 데이터는 중심점이 (0,0)이 되도록 데이터 내의 모든 값을 -1~1 사이의 값으로 정규화한다.\n",
        "  '''\n",
        "\n",
        "  dataset = copy.deepcopy(data_dict)\n",
        "  result = defaultdict(list)\n",
        "\n",
        "  classes = dataset.keys()\n",
        "  n_cls = len(classes)\n",
        "\n",
        "  for cls in classes:\n",
        "    n_data = len(dataset[cls])\n",
        "\n",
        "    for idx in range(n_data):\n",
        "      data = dataset[cls][idx]\n",
        "\n",
        "      max_val = max(np.concatenate(data))\n",
        "      min_val = min(np.concatenate(data))\n",
        "\n",
        "      norm_points = []\n",
        "      for point in data:\n",
        "        x, y = point\n",
        "\n",
        "        norm_x = round((x-min_val)/(max_val-min_val), 5)    # min max scaling (0~1 사이 값)\n",
        "        norm_y = round((y-min_val)/(max_val-min_val), 5)\n",
        "      \n",
        "        norm_x = (norm_x - 0.5)*2                           # -0.5~0.5 사이 값 -> -1~1 사이 값\n",
        "        norm_y = (norm_y - 0.5)*2\n",
        "      \n",
        "        norm_points.append([norm_x, norm_y])\n",
        "\n",
        "      result[cls].append(norm_points)\n",
        "\n",
        "  return result"
      ]
    },
    {
      "cell_type": "code",
      "execution_count": 52,
      "metadata": {
        "id": "7VaJPHnR7Xtu"
      },
      "outputs": [],
      "source": [
        "# 일반적으로 일정한 주기로 수집된 시계열 데이터들은 sampling 혹은 filtering 과정을 거친다.\n",
        "# eye written character 는 불필요한 데이터의 집합 자체를 제거해야하기 때문에 filtering과는 다른 방식의 접근이 필요하다.\n",
        "\n",
        "def noise_removal(data_dict, patch_size, ratio):\n",
        "  '''\n",
        "  필요 이상 모여있는 좌표 집합 (closed points set)을 제거한다.\n",
        "  '''\n",
        "\n",
        "  def bbox_diag_len(patch):\n",
        "    # patch에 대한 bounding box의 대각선 길이\n",
        "    x = np.array(patch)[:,0]\n",
        "    y = np.array(patch)[:,1]\n",
        "    min_x = np.min(x)\n",
        "    max_x = np.max(x)\n",
        "    min_y = np.min(y)\n",
        "    max_y = np.max(y)\n",
        "    dist =  math.sqrt((max_x-min_x)**2 + (max_y-min_y)**2)\n",
        "    return round(dist, 4)\n",
        "\n",
        "  dataset = copy.deepcopy(data_dict)\n",
        "  result = defaultdict(list)\n",
        "\n",
        "  classes = dataset.keys()\n",
        "  n_cls = len(classes)\n",
        "\n",
        "  for cls in classes:\n",
        "    n_data = len(dataset[cls])\n",
        "\n",
        "    for idx in range(n_data):\n",
        "      data = dataset[cls][idx]\n",
        "\n",
        "      treadhold = 0.0\n",
        "      i = 0\n",
        "      while True:\n",
        "        i += 1\n",
        "        patch_list = []\n",
        "        patch_diag_list = []\n",
        "\n",
        "        cutting = len(data)%patch_size\n",
        "        for p_idx in range(0, len(data), patch_size):     # n개의 points로 이루어진 patch로 분리\n",
        "          patch = data[p_idx:p_idx+patch_size]\n",
        "          patch_list.append(patch)\n",
        "          patch_diag_list.append(bbox_diag_len(patch))         # patch의 대각선 길이 저장\n",
        "        \n",
        "        if i == 1:\n",
        "          diag_avg = np.mean(patch_diag_list)                 # 첫번째 iteration에서 대각선 길이의 평균 값을 기준으로 points의 상태를 구분한다.\n",
        "          treadhold = float(diag_avg*ratio)\n",
        "\n",
        "        new_patch_list = []\n",
        "        for info in zip(patch_list, patch_diag_list):\n",
        "          patch = np.array(info[0])\n",
        "          diag = float(info[1])\n",
        "          if diag < treadhold:\n",
        "            x = round(np.mean(patch[:,0]), 4)\n",
        "            y = round(np.mean(patch[:,1]), 4)\n",
        "            new_patch_list.append([x,y])                  # points가 모여 있다고 판단되면 points의 중앙 값으로 치환\n",
        "          else:\n",
        "            new_patch_list.extend(patch.tolist())\n",
        "        \n",
        "        if data != new_patch_list:                        # 더이상 변화가 없다면 중지\n",
        "          data = new_patch_list\n",
        "        else:\n",
        "          break\n",
        "\n",
        "      result[cls].append(data)\n",
        "\n",
        "  return result\n"
      ]
    },
    {
      "cell_type": "code",
      "source": [],
      "metadata": {
        "id": "sP99D2faf6yZ"
      },
      "execution_count": null,
      "outputs": []
    },
    {
      "cell_type": "code",
      "execution_count": 53,
      "metadata": {
        "id": "-6Cgldq-9B4O"
      },
      "outputs": [],
      "source": [
        "# 일반적인 시계열 데이터는 시간에 대한 특징이 중요하게 작용한다.\n",
        "# 하지만, eye written character의 경우 시계열 데이터지만, 2차원 공간에 대한 위치적 특성이 중요하기 때문에\n",
        "# 점과 점 사이의 거리가 일정하도록 유지해야한다.\n",
        "# 해당 데이터는 좌표의 정보보단 점과 점 사이의 이동 방향과 line이 중요하다.\n",
        "# v1일 때는 좌표간 거리를 기준으로 계산 했지만, v2에는 point의 수를 기준으로 계산을 수행한다. \n",
        "\n",
        "def fill_points(data_dict, n_goal_points, k):\n",
        "  '''\n",
        "  전체 데이터 셋에\n",
        "  데이터의 크기를 입력 데이터의 크기(input shape)로 변환한다.\n",
        "  데이터의 크기가 목표 보다 클 경우, 그 차이 만큼 무작위 삭제를 한 후, (k * 목표 수)개의 points를 추가하고, 추출한다.\n",
        "  데이터의 크기가 목표 보다 작을 경우, ( (k+1) * 목표 수 - 데이터의 크기) 만큼 점과 점 사이 points를 추가한 후, 추출한다.\n",
        "  points의 추가는 한 데이터의 점과 점 사이 거리가 '기준 거리' 보다 작을 경우, 두 점의 중앙에 점을 추가한다.\n",
        "  여기서, '기준 거리'는 데이터 내의 모든 좌표간 거리의 합을 (k * 목표 수 + 좌표의 수)으로 나눈 값이다. \n",
        "  인자로 주어지는 k는 값이 클수록 정교한 결과를 얻을 수 있지만 연산 시간이 증가한다.\n",
        "  '''\n",
        "\n",
        "  def get_info(data):\n",
        "    lines = []\n",
        "    distances = []\n",
        "    for i in range(len(data)-1):     # 점과 점에 대한 연결과 거리를 저장\n",
        "      line = data[i:i+2]\n",
        "      dist = (abs(line[0][0]-line[1][0])**2+abs(line[0][1]-line[1][1])**2)**(1/2)\n",
        "      lines.append(line)\n",
        "      distances.append(dist)\n",
        "    return lines, distances\n",
        "\n",
        "  dataset = copy.deepcopy(data_dict)\n",
        "  result = defaultdict(list)\n",
        "\n",
        "  classes = dataset.keys()\n",
        "  n_cls = len(classes)\n",
        "  for cls in classes:\n",
        "    n_data = len(dataset[cls])\n",
        "    for idx in range(n_data):\n",
        "      data = dataset[cls][idx]\n",
        "\n",
        "      if len(data)>n_goal_points:\n",
        "        data = random.sample(data, n_goal_points)       # 랜덤 제거\n",
        "        n_add_points = k*n_goal_points                  # 추가할 좌표 수\n",
        "      else:\n",
        "        n_add_points = (k+1)*n_goal_points - len(data)\n",
        "\n",
        "      lines, distances = get_info(data)\n",
        "      total_dist = sum(distances)\n",
        "      bench_dist = total_dist / (len(data) + n_add_points)  # 점과 점 사이 기준 거리\n",
        "\n",
        "      while n_add_points!=0:                                    # 추가해야 할 좌표를 감소 시키면서 반복\n",
        "        lines, distances = get_info(data)\n",
        "\n",
        "        new_lines = []\n",
        "        for i, info in enumerate(zip(lines, distances)):\n",
        "          line = info[0]\n",
        "          dist = info[1]\n",
        "          if dist > bench_dist and n_add_points!=0:                 # 점과 점 사이 거리가 bench_dist보다 클 시 중점을 점과 점 사이에 추가\n",
        "            line_arr = np.array(line)\n",
        "            point = [round(sum(line_arr[:,0])/2, 4), \n",
        "                     round(sum(line_arr[:,1])/2, 4)]\n",
        "            line.insert(1, point)\n",
        "            n_add_points -= 1\n",
        "          \n",
        "          if i==0:                                                  # 중복 좌표 제거\n",
        "            new_lines.extend(line)\n",
        "          else:\n",
        "            new_lines.extend(line[1:])\n",
        "        data = new_lines\n",
        "      data = data[::k+1]                                       # k번째 항목에 위치한 요소들만 추출해서 goal points 로 축소\n",
        "      \n",
        "      result[cls].append(data)\n",
        "  return result\n"
      ]
    },
    {
      "cell_type": "code",
      "execution_count": 54,
      "metadata": {
        "id": "gOvUfi4efosV"
      },
      "outputs": [],
      "source": [
        "# 해당 데이터들은 수집 시작 시점과 끝나는 시점에 의미없는 points가 존재하기 때문에\n",
        "# 끝단의 points를 조정하여 형태를 유지함과 동시에 좌표간 거리를 일정하게 한다.\n",
        "\n",
        "def dist_equalizer(data_dict, dist_rate):\n",
        "  '''\n",
        "  하나의 데이터 내에 존재하는 점과 점사이 거리를 동일하게 조정한다.\n",
        "  순서가 있는 두 점 사이의 거리가 데이터 내의 모든 distance의 평균이 되도록 두번째 좌표(to_x, to_y)의 위치를 조정한다. \n",
        "  '''\n",
        "\n",
        "  def get_dist_avg(data_dict):\n",
        "    dist = 0.0\n",
        "    n = 0\n",
        "    for cls in classes:\n",
        "      n_data = len(dataset[cls])\n",
        "      for idx in range(n_data):\n",
        "        data = dataset[cls][idx]\n",
        "        for i in range(len(data)-1):\n",
        "          line = data[i:i+2]\n",
        "          dist += (abs(line[0][0]-line[1][0])**2+abs(line[0][1]-line[1][1])**2)**(1/2)\n",
        "          n += 1\n",
        "    return dist / n\n",
        "\n",
        "  dataset = copy.deepcopy(data_dict)\n",
        "  result = defaultdict(list)\n",
        "\n",
        "  classes = dataset.keys()\n",
        "  \n",
        "  dist_avg = get_dist_avg(dataset)*dist_rate\n",
        "\n",
        "  for cls in classes:\n",
        "    n_data = len(dataset[cls])\n",
        "    for idx in range(n_data):\n",
        "      data = dataset[cls][idx]\n",
        "\n",
        "      new_data = []\n",
        "      for i in range(len(data)-1):\n",
        "        line = data[i:i+2]\n",
        "        from_x, from_y = line[0]\n",
        "        to_x, to_y = line[1]\n",
        "        dist = (abs(from_x - to_x)**2+abs(from_y - to_y)**2)**(1/2)\n",
        "        \n",
        "        if from_x < to_x:\n",
        "          line[1][0] = round(from_x + abs(to_x-from_x)*dist_avg/dist, 4)\n",
        "        elif from_x > to_x:\n",
        "          line[1][0] = round(from_x - abs(to_x-from_x)*dist_avg/dist, 4)\n",
        "\n",
        "        if from_y < to_y:\n",
        "          line[1][1] = round(from_y + abs(to_y-from_y)*dist_avg/dist, 4)\n",
        "        elif from_y > to_y:\n",
        "          line[1][1] = round(from_y - abs(to_y-from_y)*dist_avg/dist, 4)\n",
        "\n",
        "        if i==0:\n",
        "          new_data.extend(line)\n",
        "        else:\n",
        "          new_data.append(line[-1])\n",
        "\n",
        "      result[cls].append(new_data)\n",
        "\n",
        "  return result\n"
      ]
    },
    {
      "cell_type": "code",
      "execution_count": 71,
      "metadata": {
        "id": "FCqIAP1wYG_F"
      },
      "outputs": [],
      "source": [
        "input_size = 200\n",
        "\n",
        "katakana_config = {\n",
        "    'patch_size':5,\n",
        "    'ratio':4.0,\n",
        "    'n_goal_points':input_size,\n",
        "    'k':2,\n",
        "    'dist_rate':1.5\n",
        "}\n",
        "\n",
        "raw_num_config = {\n",
        "    'patch_size':3,\n",
        "    'ratio':1.5,\n",
        "    'n_goal_points':input_size,\n",
        "    'k':2,\n",
        "    'dist_rate':1.0\n",
        "}\n",
        "\n",
        "eb_num_config = {\n",
        "    'patch_size':5,\n",
        "    'ratio':2.0,\n",
        "    'n_goal_points':input_size,\n",
        "    'k':2,\n",
        "    'dist_rate':1.0\n",
        "}\n"
      ]
    },
    {
      "cell_type": "code",
      "execution_count": 72,
      "metadata": {
        "colab": {
          "base_uri": "https://localhost:8080/"
        },
        "id": "v7dnvJwGZunR",
        "outputId": "85b3184c-6a1e-4fea-97d6-878147b53a0d"
      },
      "outputs": [
        {
          "output_type": "stream",
          "name": "stdout",
          "text": [
            "runtime : 51.43057036399841\n"
          ]
        }
      ],
      "source": [
        "# katakana\n",
        "\n",
        "start = time.time()\n",
        "\n",
        "norm_katakana = normalization(eog_katakana)\n",
        "noise_remove_katakana = noise_removal(norm_katakana, katakana_config['patch_size'], katakana_config['ratio'])\n",
        "filled_katakana = fill_points(noise_remove_katakana, katakana_config['n_goal_points'], katakana_config['k'])\n",
        "equal_dist_katakana = dist_equalizer(filled_katakana, katakana_config['dist_rate'])\n",
        "\n",
        "print('runtime :', time.time()-start)"
      ]
    },
    {
      "cell_type": "code",
      "execution_count": 73,
      "metadata": {
        "colab": {
          "base_uri": "https://localhost:8080/"
        },
        "id": "Bk3IV5EIaSH6",
        "outputId": "260b4807-82ff-4427-f924-f3efab1e09a5"
      },
      "outputs": [
        {
          "output_type": "stream",
          "name": "stdout",
          "text": [
            "runtime : 22.194353103637695\n"
          ]
        }
      ],
      "source": [
        "# arabic numbers without eye-blink remove\n",
        "\n",
        "start = time.time()\n",
        "\n",
        "norm_raw_numbers = normalization(eog_raw_numbers)\n",
        "noise_remove_raw_numbers = noise_removal(norm_raw_numbers, raw_num_config['patch_size'], raw_num_config['ratio'])\n",
        "filled_raw_numbers = fill_points(noise_remove_raw_numbers, raw_num_config['n_goal_points'], raw_num_config['k'])\n",
        "equal_dist_raw_numbers = dist_equalizer(filled_raw_numbers, raw_num_config['dist_rate'])\n",
        "\n",
        "print('runtime :', time.time()-start)"
      ]
    },
    {
      "cell_type": "code",
      "execution_count": 74,
      "metadata": {
        "colab": {
          "base_uri": "https://localhost:8080/"
        },
        "id": "Hk1QL1lGaZZp",
        "outputId": "808431ee-9254-41a2-be57-0904f8897958"
      },
      "outputs": [
        {
          "output_type": "stream",
          "name": "stdout",
          "text": [
            "runtime : 17.427112817764282\n"
          ]
        }
      ],
      "source": [
        "# arabic numbers with eye-blink remove\n",
        "\n",
        "start = time.time()\n",
        "\n",
        "norm_eb_removed_numbers = normalization(eog_eb_removed_numbers)\n",
        "noise_remove_eb_removed_numbers = noise_removal(norm_eb_removed_numbers, eb_num_config['patch_size'], eb_num_config['ratio'])\n",
        "filled_eb_removed_numbers = fill_points(noise_remove_eb_removed_numbers, eb_num_config['n_goal_points'], raw_num_config['k'])\n",
        "equal_dist_eb_removed_numbers = dist_equalizer(filled_eb_removed_numbers, raw_num_config['dist_rate'])\n",
        "\n",
        "print('runtime :', time.time()-start)"
      ]
    },
    {
      "cell_type": "markdown",
      "metadata": {
        "id": "MORqE6u1zhA-"
      },
      "source": [
        "## reference data"
      ]
    },
    {
      "cell_type": "code",
      "execution_count": 59,
      "metadata": {
        "id": "R31EyvmdbfS8"
      },
      "outputs": [],
      "source": [
        "# 참고 데이터는 정규화 된 1440개의 좌표들로 이루어져 있다.\n",
        "# 1440은 모든 수에 약분이 가능하다.\n",
        "\n",
        "def sampler(data_dict, input_size):\n",
        "  '''\n",
        "  keypoints에 해당하는 좌표를 제외한 좌표들을 목표 수 (input_size)와 동일하게 한다.\n",
        "  '''\n",
        "\n",
        "  dataset = copy.deepcopy(data_dict)\n",
        "  result = defaultdict(list)\n",
        "\n",
        "  classes = dataset.keys()\n",
        "  n_cls = len(classes)\n",
        "\n",
        "  for cls in classes:\n",
        "    n_data = len(dataset[cls])\n",
        "\n",
        "    for idx in range(n_data):\n",
        "      data = dataset[cls][idx]\n",
        "\n",
        "      ratio = len(data)/input_size\n",
        "      patch_size = int(ratio*10)\n",
        "      indices = [i for i in range(int(ratio), patch_size, int(ratio))]          # patch 내에서 추출할 point 좌표들\n",
        "      \n",
        "      new_data = []\n",
        "      for i in range(0, len(data), patch_size):\n",
        "        patch = data[i:i+patch_size]\n",
        "        samples = [patch[i] for i in indices]\n",
        "        new_data.extend(samples)\n",
        "\n",
        "      result[cls].append(new_data)\n",
        "  \n",
        "  return result\n"
      ]
    },
    {
      "cell_type": "code",
      "execution_count": 60,
      "metadata": {
        "id": "PMr3chkijima"
      },
      "outputs": [],
      "source": [
        "katakana_ref_config = {'input_size':200,\n",
        "                       'dist_rate':2.0}\n",
        "\n",
        "numbers_ref_config = {'input_size':200,\n",
        "                      'dist_rate':1.2}\n",
        "\n",
        "katakana_ref = reference_data['katakana']\n",
        "numbers_ref = reference_data['numbers']"
      ]
    },
    {
      "cell_type": "code",
      "execution_count": 61,
      "metadata": {
        "id": "aBqu-zZAjn-5"
      },
      "outputs": [],
      "source": [
        "# katakana ref\n",
        "\n",
        "scaled_katakana_ref = sampler(katakana_ref, katakana_ref_config['input_size'])\n",
        "equal_katakana_ref = dist_equalizer(scaled_katakana_ref, katakana_ref_config['dist_rate'])"
      ]
    },
    {
      "cell_type": "code",
      "execution_count": 62,
      "metadata": {
        "id": "Obr52WyXjKpy"
      },
      "outputs": [],
      "source": [
        "# arabic numbers\n",
        "\n",
        "scaled_numbers_ref = sampler(numbers_ref, numbers_ref_config['input_size'])\n",
        "equal_numbers_ref = dist_equalizer(scaled_numbers_ref, numbers_ref_config['dist_rate'])"
      ]
    },
    {
      "cell_type": "markdown",
      "metadata": {
        "id": "gaSOyemYoaOY"
      },
      "source": [
        "## plot"
      ]
    },
    {
      "cell_type": "code",
      "source": [
        "length = []\n",
        "for k in equal_dist_eb_removed_numbers.keys():\n",
        "  for d in range(len(equal_dist_eb_removed_numbers[k])):\n",
        "    l = np.array(equal_dist_eb_removed_numbers[k][d]).shape\n",
        "    if l not in length:\n",
        "      length.append(l)\n",
        "\n",
        "print(length)"
      ],
      "metadata": {
        "colab": {
          "base_uri": "https://localhost:8080/"
        },
        "id": "0hsWuOLRpzvS",
        "outputId": "ce459812-d29a-4384-9470-dca20674e284"
      },
      "execution_count": 64,
      "outputs": [
        {
          "output_type": "stream",
          "name": "stdout",
          "text": [
            "[(200, 2)]\n"
          ]
        }
      ]
    },
    {
      "cell_type": "code",
      "source": [
        "sample = {'1': norm_eb_removed_numbers['0'][:2],\n",
        "          '2': noise_remove_eb_removed_numbers['0'][:2],\n",
        "          '3': filled_eb_removed_numbers['0'][:2],\n",
        "          '4': equal_dist_eb_removed_numbers['0'][:2]}\n",
        "\n",
        "plot_images(sample)"
      ],
      "metadata": {
        "colab": {
          "base_uri": "https://localhost:8080/",
          "height": 592
        },
        "id": "qyohKLgCjwJJ",
        "outputId": "db91d1d2-9305-449a-caf7-7067a9a58920"
      },
      "execution_count": 77,
      "outputs": [
        {
          "output_type": "display_data",
          "data": {
            "text/plain": [
              "<Figure size 1440x720 with 8 Axes>"
            ],
            "image/png": "[encoded data removed]"
          },
          "metadata": {
            "needs_background": "light"
          }
        }
      ]
    },
    {
      "cell_type": "code",
      "source": [
        "plot_images(equal_dist_katakana)"
      ],
      "metadata": {
        "id": "vqJBuYcrfPta"
      },
      "execution_count": null,
      "outputs": []
    },
    {
      "cell_type": "code",
      "source": [
        "plot_images(equal_dist_raw_numbers)"
      ],
      "metadata": {
        "id": "QOAr1xhIfUdX"
      },
      "execution_count": null,
      "outputs": []
    },
    {
      "cell_type": "code",
      "source": [
        "plot_images(equal_dist_eb_removed_numbers)"
      ],
      "metadata": {
        "id": "Tv9BNppKfUf5"
      },
      "execution_count": null,
      "outputs": []
    },
    {
      "cell_type": "code",
      "execution_count": null,
      "metadata": {
        "id": "t98V0tuKOiwk"
      },
      "outputs": [],
      "source": [
        "plot_images(equal_katakana_ref)"
      ]
    },
    {
      "cell_type": "code",
      "source": [
        "plot_images(equal_numbers_ref)"
      ],
      "metadata": {
        "id": "Do-ScdK790fZ"
      },
      "execution_count": null,
      "outputs": []
    },
    {
      "cell_type": "markdown",
      "metadata": {
        "id": "4liQlNNazMNz"
      },
      "source": [
        "## save data"
      ]
    },
    {
      "cell_type": "code",
      "execution_count": 70,
      "metadata": {
        "id": "qVLVMdEeHIHj"
      },
      "outputs": [],
      "source": [
        "save_path = '/content/gdrive/MyDrive/Colab Notebooks/Recognitaion_eye_written_char_with_siamese_net/v2_dataset/200_points_dataset/'\n",
        "\n",
        "with open(save_path + 'eog_katakana_200.json','w') as f:\n",
        "    json.dump(equal_dist_katakana,f)\n",
        "\n",
        "with open(save_path + 'eog_raw_numbers_200.json','w') as f:\n",
        "    json.dump(equal_dist_raw_numbers,f)\n",
        "\n",
        "with open(save_path + 'eog_eb_remove_numbers_200.json','w') as f:\n",
        "    json.dump(equal_dist_eb_removed_numbers,f)\n",
        "\n",
        "reference_data = {'katakana': scaled_katakana_ref,\n",
        "                  'numbers' : scaled_numbers_ref}\n",
        "\n",
        "with open(save_path + 'reference_data_200.json','w') as f:\n",
        "    json.dump(reference_data,f)\n"
      ]
    },
    {
      "cell_type": "code",
      "execution_count": null,
      "metadata": {
        "id": "_yNoJcyYZ__i"
      },
      "outputs": [],
      "source": []
    }
  ],
  "metadata": {
    "colab": {
      "provenance": []
    },
    "kernelspec": {
      "display_name": "Python 3",
      "name": "python3"
    },
    "language_info": {
      "name": "python"
    }
  },
  "nbformat": 4,
  "nbformat_minor": 0
}